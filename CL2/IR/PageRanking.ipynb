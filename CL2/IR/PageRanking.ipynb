{
 "cells": [
  {
   "cell_type": "code",
   "execution_count": 1,
   "metadata": {},
   "outputs": [],
   "source": [
    "import requests\n",
    "from bs4 import BeautifulSoup\n",
    "from collections import defaultdict"
   ]
  },
  {
   "cell_type": "code",
   "execution_count": 2,
   "metadata": {},
   "outputs": [],
   "source": [
    "def get_links_from_page(url):\n",
    "    \"\"\"Extract links from a given web page.\"\"\"\n",
    "    try:\n",
    "        response = requests.get(url)\n",
    "        soup = BeautifulSoup(response.content, \"html.parser\")\n",
    "        links = {link.get('href') for link in soup.find_all('a', href=True)}\n",
    "        # Filter links to avoid JavaScript, None, or malformed URLs\n",
    "        return {link for link in links if link.startswith(\"http\")}\n",
    "    except Exception as e:\n",
    "        print(f\"Error fetching links from {url}: {e}\")\n",
    "        return set()"
   ]
  },
  {
   "cell_type": "code",
   "execution_count": 3,
   "metadata": {},
   "outputs": [],
   "source": [
    "def build_web_graph(seed_urls, max_pages=10):\n",
    "    \"\"\"Build a web graph starting from seed URLs.\"\"\"\n",
    "    web_graph = defaultdict(set)\n",
    "    visited = set()\n",
    "\n",
    "    to_visit = seed_urls[:]\n",
    "    while to_visit and len(visited) < max_pages:\n",
    "        url = to_visit.pop(0)\n",
    "        if url not in visited:\n",
    "            visited.add(url)\n",
    "            links = get_links_from_page(url)\n",
    "            web_graph[url].update(links)\n",
    "            # Add new links to the to_visit list if not already visited\n",
    "            to_visit.extend(links - visited)\n",
    "\n",
    "    return web_graph"
   ]
  },
  {
   "cell_type": "code",
   "execution_count": 4,
   "metadata": {},
   "outputs": [],
   "source": [
    "def page_rank(graph, iterations=100, damping_factor=0.85):\n",
    "    \"\"\"Calculate PageRank scores using the iterative method.\"\"\"\n",
    "    # Initialize PageRank values\n",
    "    num_pages = len(graph)\n",
    "    ranks = {page: 1 / num_pages for page in graph}\n",
    "\n",
    "    for _ in range(iterations):\n",
    "        new_ranks = {}\n",
    "        for page in graph:\n",
    "            rank_sum = 0\n",
    "            for other_page in graph:\n",
    "                if page in graph[other_page]:\n",
    "                    rank_sum += ranks[other_page] / len(graph[other_page])\n",
    "            new_ranks[page] = (1 - damping_factor) / num_pages + damping_factor * rank_sum\n",
    "        ranks = new_ranks\n",
    "\n",
    "    return ranks"
   ]
  },
  {
   "cell_type": "code",
   "execution_count": 5,
   "metadata": {},
   "outputs": [
    {
     "name": "stdout",
     "output_type": "stream",
     "text": [
      "PageRank Scores:\n",
      "https://medium.com/@lelambonzo/implementing-pagerank-algorithm-in-python-for-web-graph-analysis-718f34c9e4fb: 0.015000000000000003\n",
      "https://www.geeksforgeeks.org/page-rank-algorithm-implementation/: 0.015000000000000003\n",
      "https://www.geeksforgeeks.org/courses/gate-ds-ai-self-paced?ref=footer: 0.015393508763419779\n",
      "https://www.geeksforgeeks.org/deep-learning-tutorial/?ref=footer: 0.015393508763419779\n",
      "https://www.geeksforgeeks.org/courses/devops-live?ref=footer: 0.015393508763419779\n",
      "https://www.geeksforgeeks.org/courses/mastering-system-design-low-level-to-high-level-solutions?ref=footer: 0.015393508763419779\n",
      "https://www.geeksforgeeks.org/courses/Java-backend-live?ref=footer: 0.015393508763419779\n",
      "https://www.geeksforgeeks.org/sbi-po-syllabus-2024/?ref=footer: 0.015393508763419779\n",
      "https://www.geeksforgeeks.org/company-wise-recruitment-process/?ref=footer: 0.015393508763419779\n",
      "https://www.geeksforgeeks.org/ncert-class-10th-latest-syllabus-based-study-material/?ref=dhm: 0.015047174453884846\n"
     ]
    }
   ],
   "source": [
    "# Example usage\n",
    "seed_urls = [\n",
    "    \"https://medium.com/@lelambonzo/implementing-pagerank-algorithm-in-python-for-web-graph-analysis-718f34c9e4fb\",  # Replace with real URLs\n",
    "    \"https://www.geeksforgeeks.org/page-rank-algorithm-implementation/\"\n",
    "]\n",
    "web_graph = build_web_graph(seed_urls)\n",
    "ranks = page_rank(web_graph)\n",
    "\n",
    "print(\"PageRank Scores:\")\n",
    "for page, score in ranks.items():\n",
    "    print(f\"{page}: {score}\")\n"
   ]
  }
 ],
 "metadata": {
  "kernelspec": {
   "display_name": "Python 3",
   "language": "python",
   "name": "python3"
  },
  "language_info": {
   "codemirror_mode": {
    "name": "ipython",
    "version": 3
   },
   "file_extension": ".py",
   "mimetype": "text/x-python",
   "name": "python",
   "nbconvert_exporter": "python",
   "pygments_lexer": "ipython3",
   "version": "3.12.3"
  }
 },
 "nbformat": 4,
 "nbformat_minor": 2
}
