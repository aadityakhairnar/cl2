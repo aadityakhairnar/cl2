{
 "cells": [
  {
   "cell_type": "code",
   "execution_count": 21,
   "metadata": {},
   "outputs": [],
   "source": [
    "from qiskit import QuantumCircuit, transpile\n",
    "from qiskit import QuantumRegister, ClassicalRegister\n",
    "from qiskit_aer import AerSimulator\n",
    "from qiskit.visualization import plot_histogram"
   ]
  },
  {
   "cell_type": "code",
   "execution_count": 22,
   "metadata": {},
   "outputs": [],
   "source": [
    "q = QuantumRegister(16, 'q')\n",
    "c = ClassicalRegister(16, 'c')\n",
    "circuit = QuantumCircuit(q, c)"
   ]
  },
  {
   "cell_type": "code",
   "execution_count": 23,
   "metadata": {},
   "outputs": [
    {
     "data": {
      "text/html": [
       "<pre style=\"word-wrap: normal;white-space: pre;background: #fff0;line-height: 1.1;font-family: &quot;Courier New&quot;,Courier,monospace\">      ┌───┐┌─┐                                             \n",
       " q_0: ┤ H ├┤M├─────────────────────────────────────────────\n",
       "      ├───┤└╥┘┌─┐                                          \n",
       " q_1: ┤ H ├─╫─┤M├──────────────────────────────────────────\n",
       "      ├───┤ ║ └╥┘┌─┐                                       \n",
       " q_2: ┤ H ├─╫──╫─┤M├───────────────────────────────────────\n",
       "      ├───┤ ║  ║ └╥┘┌─┐                                    \n",
       " q_3: ┤ H ├─╫──╫──╫─┤M├────────────────────────────────────\n",
       "      ├───┤ ║  ║  ║ └╥┘┌─┐                                 \n",
       " q_4: ┤ H ├─╫──╫──╫──╫─┤M├─────────────────────────────────\n",
       "      ├───┤ ║  ║  ║  ║ └╥┘┌─┐                              \n",
       " q_5: ┤ H ├─╫──╫──╫──╫──╫─┤M├──────────────────────────────\n",
       "      ├───┤ ║  ║  ║  ║  ║ └╥┘┌─┐                           \n",
       " q_6: ┤ H ├─╫──╫──╫──╫──╫──╫─┤M├───────────────────────────\n",
       "      ├───┤ ║  ║  ║  ║  ║  ║ └╥┘┌─┐                        \n",
       " q_7: ┤ H ├─╫──╫──╫──╫──╫──╫──╫─┤M├────────────────────────\n",
       "      ├───┤ ║  ║  ║  ║  ║  ║  ║ └╥┘┌─┐                     \n",
       " q_8: ┤ H ├─╫──╫──╫──╫──╫──╫──╫──╫─┤M├─────────────────────\n",
       "      ├───┤ ║  ║  ║  ║  ║  ║  ║  ║ └╥┘┌─┐                  \n",
       " q_9: ┤ H ├─╫──╫──╫──╫──╫──╫──╫──╫──╫─┤M├──────────────────\n",
       "      ├───┤ ║  ║  ║  ║  ║  ║  ║  ║  ║ └╥┘┌─┐               \n",
       "q_10: ┤ H ├─╫──╫──╫──╫──╫──╫──╫──╫──╫──╫─┤M├───────────────\n",
       "      ├───┤ ║  ║  ║  ║  ║  ║  ║  ║  ║  ║ └╥┘┌─┐            \n",
       "q_11: ┤ H ├─╫──╫──╫──╫──╫──╫──╫──╫──╫──╫──╫─┤M├────────────\n",
       "      ├───┤ ║  ║  ║  ║  ║  ║  ║  ║  ║  ║  ║ └╥┘┌─┐         \n",
       "q_12: ┤ H ├─╫──╫──╫──╫──╫──╫──╫──╫──╫──╫──╫──╫─┤M├─────────\n",
       "      ├───┤ ║  ║  ║  ║  ║  ║  ║  ║  ║  ║  ║  ║ └╥┘┌─┐      \n",
       "q_13: ┤ H ├─╫──╫──╫──╫──╫──╫──╫──╫──╫──╫──╫──╫──╫─┤M├──────\n",
       "      ├───┤ ║  ║  ║  ║  ║  ║  ║  ║  ║  ║  ║  ║  ║ └╥┘┌─┐   \n",
       "q_14: ┤ H ├─╫──╫──╫──╫──╫──╫──╫──╫──╫──╫──╫──╫──╫──╫─┤M├───\n",
       "      ├───┤ ║  ║  ║  ║  ║  ║  ║  ║  ║  ║  ║  ║  ║  ║ └╥┘┌─┐\n",
       "q_15: ┤ H ├─╫──╫──╫──╫──╫──╫──╫──╫──╫──╫──╫──╫──╫──╫──╫─┤M├\n",
       "      └───┘ ║  ║  ║  ║  ║  ║  ║  ║  ║  ║  ║  ║  ║  ║  ║ └╥┘\n",
       "c: 16/══════╩══╩══╩══╩══╩══╩══╩══╩══╩══╩══╩══╩══╩══╩══╩══╩═\n",
       "            0  1  2  3  4  5  6  7  8  9  10 11 12 13 14 15</pre>"
      ],
      "text/plain": [
       "      ┌───┐┌─┐                                             \n",
       " q_0: ┤ H ├┤M├─────────────────────────────────────────────\n",
       "      ├───┤└╥┘┌─┐                                          \n",
       " q_1: ┤ H ├─╫─┤M├──────────────────────────────────────────\n",
       "      ├───┤ ║ └╥┘┌─┐                                       \n",
       " q_2: ┤ H ├─╫──╫─┤M├───────────────────────────────────────\n",
       "      ├───┤ ║  ║ └╥┘┌─┐                                    \n",
       " q_3: ┤ H ├─╫──╫──╫─┤M├────────────────────────────────────\n",
       "      ├───┤ ║  ║  ║ └╥┘┌─┐                                 \n",
       " q_4: ┤ H ├─╫──╫──╫──╫─┤M├─────────────────────────────────\n",
       "      ├───┤ ║  ║  ║  ║ └╥┘┌─┐                              \n",
       " q_5: ┤ H ├─╫──╫──╫──╫──╫─┤M├──────────────────────────────\n",
       "      ├───┤ ║  ║  ║  ║  ║ └╥┘┌─┐                           \n",
       " q_6: ┤ H ├─╫──╫──╫──╫──╫──╫─┤M├───────────────────────────\n",
       "      ├───┤ ║  ║  ║  ║  ║  ║ └╥┘┌─┐                        \n",
       " q_7: ┤ H ├─╫──╫──╫──╫──╫──╫──╫─┤M├────────────────────────\n",
       "      ├───┤ ║  ║  ║  ║  ║  ║  ║ └╥┘┌─┐                     \n",
       " q_8: ┤ H ├─╫──╫──╫──╫──╫──╫──╫──╫─┤M├─────────────────────\n",
       "      ├───┤ ║  ║  ║  ║  ║  ║  ║  ║ └╥┘┌─┐                  \n",
       " q_9: ┤ H ├─╫──╫──╫──╫──╫──╫──╫──╫──╫─┤M├──────────────────\n",
       "      ├───┤ ║  ║  ║  ║  ║  ║  ║  ║  ║ └╥┘┌─┐               \n",
       "q_10: ┤ H ├─╫──╫──╫──╫──╫──╫──╫──╫──╫──╫─┤M├───────────────\n",
       "      ├───┤ ║  ║  ║  ║  ║  ║  ║  ║  ║  ║ └╥┘┌─┐            \n",
       "q_11: ┤ H ├─╫──╫──╫──╫──╫──╫──╫──╫──╫──╫──╫─┤M├────────────\n",
       "      ├───┤ ║  ║  ║  ║  ║  ║  ║  ║  ║  ║  ║ └╥┘┌─┐         \n",
       "q_12: ┤ H ├─╫──╫──╫──╫──╫──╫──╫──╫──╫──╫──╫──╫─┤M├─────────\n",
       "      ├───┤ ║  ║  ║  ║  ║  ║  ║  ║  ║  ║  ║  ║ └╥┘┌─┐      \n",
       "q_13: ┤ H ├─╫──╫──╫──╫──╫──╫──╫──╫──╫──╫──╫──╫──╫─┤M├──────\n",
       "      ├───┤ ║  ║  ║  ║  ║  ║  ║  ║  ║  ║  ║  ║  ║ └╥┘┌─┐   \n",
       "q_14: ┤ H ├─╫──╫──╫──╫──╫──╫──╫──╫──╫──╫──╫──╫──╫──╫─┤M├───\n",
       "      ├───┤ ║  ║  ║  ║  ║  ║  ║  ║  ║  ║  ║  ║  ║  ║ └╥┘┌─┐\n",
       "q_15: ┤ H ├─╫──╫──╫──╫──╫──╫──╫──╫──╫──╫──╫──╫──╫──╫──╫─┤M├\n",
       "      └───┘ ║  ║  ║  ║  ║  ║  ║  ║  ║  ║  ║  ║  ║  ║  ║ └╥┘\n",
       "c: 16/══════╩══╩══╩══╩══╩══╩══╩══╩══╩══╩══╩══╩══╩══╩══╩══╩═\n",
       "            0  1  2  3  4  5  6  7  8  9  10 11 12 13 14 15"
      ]
     },
     "execution_count": 23,
     "metadata": {},
     "output_type": "execute_result"
    }
   ],
   "source": [
    "circuit.h(q)\n",
    "circuit.draw()\n",
    "circuit.measure(q, c)\n",
    "circuit.draw()"
   ]
  },
  {
   "cell_type": "code",
   "execution_count": 24,
   "metadata": {},
   "outputs": [],
   "source": [
    "simulator = AerSimulator()"
   ]
  },
  {
   "cell_type": "code",
   "execution_count": 25,
   "metadata": {},
   "outputs": [],
   "source": [
    "transpiled_circuit = transpile(circuit, simulator)"
   ]
  },
  {
   "cell_type": "code",
   "execution_count": 26,
   "metadata": {},
   "outputs": [],
   "source": [
    "job = simulator.run(transpiled_circuit, shots=1)"
   ]
  },
  {
   "cell_type": "code",
   "execution_count": 27,
   "metadata": {},
   "outputs": [
    {
     "name": "stdout",
     "output_type": "stream",
     "text": [
      "Executing Job.....\n"
     ]
    }
   ],
   "source": [
    "print(\"Executing Job.....\")\n",
    "result = job.result()"
   ]
  },
  {
   "cell_type": "code",
   "execution_count": 28,
   "metadata": {},
   "outputs": [
    {
     "name": "stdout",
     "output_type": "stream",
     "text": [
      "Result:  {'0111101110101111': 1}\n"
     ]
    }
   ],
   "source": [
    "counts = result.get_counts(circuit)\n",
    "print(\"Result: \", counts)"
   ]
  },
  {
   "cell_type": "code",
   "execution_count": null,
   "metadata": {},
   "outputs": [],
   "source": []
  },
  {
   "cell_type": "code",
   "execution_count": null,
   "metadata": {},
   "outputs": [],
   "source": []
  }
 ],
 "metadata": {
  "kernelspec": {
   "display_name": "Python 3",
   "language": "python",
   "name": "python3"
  },
  "language_info": {
   "codemirror_mode": {
    "name": "ipython",
    "version": 3
   },
   "file_extension": ".py",
   "mimetype": "text/x-python",
   "name": "python",
   "nbconvert_exporter": "python",
   "pygments_lexer": "ipython3",
   "version": "3.12.3"
  }
 },
 "nbformat": 4,
 "nbformat_minor": 2
}
